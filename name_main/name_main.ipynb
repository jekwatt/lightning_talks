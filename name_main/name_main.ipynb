{
 "cells": [
  {
   "cell_type": "markdown",
   "metadata": {},
   "source": [
    "## __name__ and __main__"
   ]
  },
  {
   "cell_type": "raw",
   "metadata": {},
   "source": [
    "Often in Python script, you will see this..."
   ]
  },
  {
   "cell_type": "code",
   "execution_count": null,
   "metadata": {
    "collapsed": true
   },
   "outputs": [],
   "source": [
    "#!/usr/bin/env python3\n",
    "\n",
    "\n",
    "def main():\n",
    "    pass\n",
    "\n",
    "\n",
    "# FUNCTIONS\n",
    "\n",
    "# LOTS MORE FUNCTIONS\n",
    "\n",
    "\n",
    "if __name__ == '__main__':\n",
    "    main()\n"
   ]
  },
  {
   "cell_type": "markdown",
   "metadata": {},
   "source": [
    "### Let's define these..."
   ]
  },
  {
   "cell_type": "raw",
   "metadata": {},
   "source": [
    "Top-level script: indentation level 0; In this case, if block is the top-level code.   \n",
    "\n",
    "__name__: a built-in special variable which evaluates to the name of the current module\n",
    "    \n",
    "'__main__': the name of the scope in which top-level code executes. "
   ]
  },
  {
   "cell_type": "markdown",
   "metadata": {},
   "source": [
    "#### For example"
   ]
  },
  {
   "cell_type": "raw",
   "metadata": {},
   "source": [
    "When your script is run by passing it as a command to the Python interpreter:\n",
    "\n",
    "    python myscript.py\n",
    "\n",
    "All of the code that is at indentation level 0 gets executed. \n",
    "\n",
    "Functions and classes that are defined, but none of their code gets ran.\n",
    "\n",
    "Unlike other languages, there's no main() function that gets run automatically\n",
    "the main() function is implicitly all the code at the top level."
   ]
  },
  {
   "cell_type": "markdown",
   "metadata": {},
   "source": [
    "### Where the function calls are coming from?"
   ]
  },
  {
   "cell_type": "raw",
   "metadata": {},
   "source": [
    "This line of code designed to help indicate where function calls are coming from\n",
    "when working with multiple .py scripts.\n",
    "\n",
    "\n",
    "if __name__ == '__main__': \n",
    " \n",
    "\n",
    "However, if a module is being run directly (as in myscript.py above), \n",
    "then __name__ is set to the string \"__main__\". \n",
    "    \n",
    "Thus, you can test if the module is being run directly\n",
    "or module/module's function is being used as an import."
   ]
  },
  {
   "cell_type": "markdown",
   "metadata": {},
   "source": [
    "### one"
   ]
  },
  {
   "cell_type": "code",
   "execution_count": null,
   "metadata": {},
   "outputs": [],
   "source": [
    "! python one.py"
   ]
  },
  {
   "cell_type": "code",
   "execution_count": null,
   "metadata": {},
   "outputs": [],
   "source": [
    "# before the import\n",
    "# name 'one' is not defined yet  --> NameError\n",
    "\n",
    "one.__name__"
   ]
  },
  {
   "cell_type": "code",
   "execution_count": null,
   "metadata": {},
   "outputs": [],
   "source": [
    "import one"
   ]
  },
  {
   "cell_type": "code",
   "execution_count": null,
   "metadata": {},
   "outputs": [],
   "source": [
    "dir(one.__builtins__)"
   ]
  },
  {
   "cell_type": "code",
   "execution_count": null,
   "metadata": {},
   "outputs": [],
   "source": [
    "# after the import\n",
    "# the name of the module is actually the name\n",
    "\n",
    "one.__name__"
   ]
  },
  {
   "cell_type": "markdown",
   "metadata": {},
   "source": [
    "### two"
   ]
  },
  {
   "cell_type": "code",
   "execution_count": null,
   "metadata": {},
   "outputs": [],
   "source": [
    "! python two.py"
   ]
  },
  {
   "cell_type": "code",
   "execution_count": null,
   "metadata": {
    "collapsed": true
   },
   "outputs": [],
   "source": [
    "# before the import\n",
    "# name 'two' is not defined yet  --> NameError\n",
    "\n",
    "# two.__name__"
   ]
  },
  {
   "cell_type": "code",
   "execution_count": null,
   "metadata": {},
   "outputs": [],
   "source": [
    "import two"
   ]
  },
  {
   "cell_type": "code",
   "execution_count": null,
   "metadata": {
    "scrolled": false
   },
   "outputs": [],
   "source": [
    "dir(two)"
   ]
  },
  {
   "cell_type": "code",
   "execution_count": null,
   "metadata": {},
   "outputs": [],
   "source": [
    "# after the import\n",
    "two.__name__"
   ]
  },
  {
   "cell_type": "markdown",
   "metadata": {},
   "source": [
    "### Let's explore!"
   ]
  },
  {
   "cell_type": "code",
   "execution_count": null,
   "metadata": {
    "collapsed": true
   },
   "outputs": [],
   "source": [
    "# vim -O one.py two.py"
   ]
  },
  {
   "cell_type": "code",
   "execution_count": null,
   "metadata": {
    "collapsed": true
   },
   "outputs": [],
   "source": [
    "# :new | 0read ! python one.py\n",
    "#\n",
    "# new - creates new split\n",
    "# read - to get the command output\n",
    "# command - actual command"
   ]
  }
 ],
 "metadata": {
  "kernelspec": {
   "display_name": "Python 3",
   "language": "python",
   "name": "python3"
  },
  "language_info": {
   "codemirror_mode": {
    "name": "ipython",
    "version": 3
   },
   "file_extension": ".py",
   "mimetype": "text/x-python",
   "name": "python",
   "nbconvert_exporter": "python",
   "pygments_lexer": "ipython3",
   "version": "3.6.6"
  }
 },
 "nbformat": 4,
 "nbformat_minor": 2
}
