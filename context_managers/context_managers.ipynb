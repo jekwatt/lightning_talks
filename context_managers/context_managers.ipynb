{
 "cells": [
  {
   "cell_type": "markdown",
   "metadata": {},
   "source": [
    "## Context Managers"
   ]
  },
  {
   "cell_type": "markdown",
   "metadata": {},
   "source": [
    "### Documentation\n",
    "\n",
    "https://docs.python.org/3.7/library/contextlib.html?highlight=context%20manager#\n",
    "\n",
    "http://book.pythontips.com/en/latest/context_managers.html\n"
   ]
  },
  {
   "cell_type": "raw",
   "metadata": {},
   "source": [
    "Recap With Statement\n",
    "\n",
    "1. Implementing as a Class\n",
    "2. Handling exceptions\n",
    "3. Implementing as a function decorator (generator)\n",
    "4. Writing pretty APIs with Context Managers\n",
    "\n",
    "5. More Context Managers\n",
    "    * asynccontextmanager\n",
    "    * redirect_stdout(new_target)\n",
    "    * redirect_stderr(new_target)\n",
    "    * and more..."
   ]
  },
  {
   "cell_type": "markdown",
   "metadata": {},
   "source": [
    "### Recap"
   ]
  },
  {
   "cell_type": "code",
   "execution_count": 1,
   "metadata": {
    "collapsed": true
   },
   "outputs": [],
   "source": [
    "with open('hello.txt', 'w') as f:\n",
    "    f.write('hello, world!')"
   ]
  },
  {
   "cell_type": "code",
   "execution_count": 2,
   "metadata": {
    "collapsed": true
   },
   "outputs": [],
   "source": [
    "# same as the above\n",
    "\n",
    "f = open('hello.txt', 'w')\n",
    "try:\n",
    "    f.write('hello, world')\n",
    "finally:\n",
    "    f.close()"
   ]
  },
  {
   "cell_type": "code",
   "execution_count": 3,
   "metadata": {
    "collapsed": true
   },
   "outputs": [],
   "source": [
    "# the below implementation won’t guarantee the file is closed if there’s an exception during the f.write() call\n",
    "\n",
    "f = open('hello.txt', 'w')\n",
    "f.write('hello, world')\n",
    "f.close()"
   ]
  },
  {
   "cell_type": "markdown",
   "metadata": {},
   "source": [
    "### Implementing a Context Manager as a Class"
   ]
  },
  {
   "cell_type": "code",
   "execution_count": 4,
   "metadata": {
    "collapsed": true
   },
   "outputs": [],
   "source": [
    "# at the very least a context manager has an __enter__ and __exit__ method defined\n",
    "# simple implementation of the open() context manager\n",
    "\n",
    "class ManagedFile:\n",
    "    def __init__(self, name):\n",
    "        self.name = name\n",
    "\n",
    "    def __enter__(self):\n",
    "        self.file = open(self.name, 'w')\n",
    "        return self.file\n",
    "\n",
    "    def __exit__(self, exc_type, exc_val, exc_tb):\n",
    "        if self.file:\n",
    "            self.file.close()"
   ]
  },
  {
   "cell_type": "code",
   "execution_count": 5,
   "metadata": {
    "collapsed": true
   },
   "outputs": [],
   "source": [
    "# just by defining __enter__ and __exit__ methods we can use our new class in a with statement. \n",
    "\n",
    "with ManagedFile('hello1') as f:\n",
    "    f.write('hello, world!\\n')\n",
    "    f.write('bye now')"
   ]
  },
  {
   "cell_type": "markdown",
   "metadata": {},
   "source": [
    "### Handling Exceptions"
   ]
  },
  {
   "cell_type": "code",
   "execution_count": 6,
   "metadata": {
    "collapsed": true
   },
   "outputs": [],
   "source": [
    "# rewrite __exit__()\n",
    "\n",
    "class ManagedFile:\n",
    "    def __init__(self, name):\n",
    "        self.name = name\n",
    "\n",
    "    def __enter__(self):\n",
    "        self.file = open(self.name, 'w')\n",
    "        return self.file\n",
    "\n",
    "    # __exit__ method handles the exception\n",
    "    def __exit__(self, exc_type, exc_val, exc_tb):\n",
    "        if self.file:\n",
    "            print(\"Exception has been handled\")\n",
    "#             print('exc_type: ', exc_type) \n",
    "#             print('exc_val: ', exc_val)\n",
    "#             print('exc_tb: ', exc_tb)\n",
    "            self.file.close()\n",
    "            return True"
   ]
  },
  {
   "cell_type": "code",
   "execution_count": 7,
   "metadata": {},
   "outputs": [
    {
     "name": "stdout",
     "output_type": "stream",
     "text": [
      "Exception has been handled\n"
     ]
    }
   ],
   "source": [
    "with ManagedFile('hello2') as f:\n",
    "    f.undefined_function() # non supported method"
   ]
  },
  {
   "cell_type": "markdown",
   "metadata": {},
   "source": [
    "### Implememting a Context Manager as a function decorator"
   ]
  },
  {
   "cell_type": "code",
   "execution_count": 8,
   "metadata": {
    "collapsed": true
   },
   "outputs": [],
   "source": [
    "# use as a decorator to define a generator-based factory function for a resource \n",
    "# that will then automatically support the with statement.\n",
    "\n",
    "from contextlib import contextmanager\n",
    "\n",
    "\n",
    "@contextmanager\n",
    "def managed_file(name):\n",
    "    try:\n",
    "        f = open(name, 'w')\n",
    "#         print(type(f))\n",
    "#         print(f)\n",
    "        yield f\n",
    "    finally:\n",
    "        f.close()"
   ]
  },
  {
   "cell_type": "code",
   "execution_count": 9,
   "metadata": {
    "collapsed": true
   },
   "outputs": [],
   "source": [
    "with managed_file('hello3') as f:\n",
    "    f.write('hello, world!\\n')\n",
    "    f.write('bye now')"
   ]
  },
  {
   "cell_type": "markdown",
   "metadata": {},
   "source": [
    "### Writing pretty APIs with Context Managers"
   ]
  },
  {
   "cell_type": "code",
   "execution_count": 10,
   "metadata": {
    "collapsed": true
   },
   "outputs": [],
   "source": [
    "class Indenter:\n",
    "    def __init__(self):\n",
    "        self.level = 0\n",
    "\n",
    "    def __enter__(self):\n",
    "        self.level += 1\n",
    "        return self\n",
    "    \n",
    "    def __exit__(self, exc_type, exc_val, exc_tb): \n",
    "        self.level -= 1\n",
    "\n",
    "    def print(self, text):\n",
    "        print('    ' * self.level + text)"
   ]
  },
  {
   "cell_type": "code",
   "execution_count": 11,
   "metadata": {},
   "outputs": [
    {
     "name": "stdout",
     "output_type": "stream",
     "text": [
      "    hi!\n",
      "        hello\n",
      "            bark bark\n",
      "    hey\n"
     ]
    }
   ],
   "source": [
    "with Indenter() as indent:\n",
    "    indent.print('hi!')\n",
    "    with indent:\n",
    "        indent.print('hello')\n",
    "        with indent:\n",
    "            indent.print('bark bark')\n",
    "    indent.print('hey')"
   ]
  },
  {
   "cell_type": "code",
   "execution_count": 12,
   "metadata": {
    "collapsed": true
   },
   "outputs": [],
   "source": [
    "# Inherited or Sub class (Note Indenter in parenthesis)\n",
    "\n",
    "class HtmlIndenter(Indenter):\n",
    "    def __init__(self):\n",
    "        Indenter.__init__(self)\n",
    "\n",
    "    def print(self, text):\n",
    "        print('  ' * self.level + text)"
   ]
  },
  {
   "cell_type": "code",
   "execution_count": 13,
   "metadata": {},
   "outputs": [
    {
     "name": "stdout",
     "output_type": "stream",
     "text": [
      "  <body>\n",
      "    <h3>\n",
      "    la la la\n",
      "    </h3>\n",
      "      <div>\n",
      "      blah blah blah\n",
      "      </div>\n",
      "  </body>\n"
     ]
    }
   ],
   "source": [
    "with HtmlIndenter() as html_indent:\n",
    "    html_indent.print('<body>')\n",
    "    with html_indent:\n",
    "        html_indent.print('<h3>')\n",
    "        html_indent.print('la la la')\n",
    "        html_indent.print('</h3>')\n",
    "        with html_indent:\n",
    "            html_indent.print('<div>')\n",
    "            html_indent.print('blah blah blah')\n",
    "            html_indent.print('</div>')\n",
    "    html_indent.print('</body>')"
   ]
  },
  {
   "cell_type": "code",
   "execution_count": null,
   "metadata": {
    "collapsed": true
   },
   "outputs": [],
   "source": []
  }
 ],
 "metadata": {
  "kernelspec": {
   "display_name": "Python 3",
   "language": "python",
   "name": "python3"
  },
  "language_info": {
   "codemirror_mode": {
    "name": "ipython",
    "version": 3
   },
   "file_extension": ".py",
   "mimetype": "text/x-python",
   "name": "python",
   "nbconvert_exporter": "python",
   "pygments_lexer": "ipython3",
   "version": "3.6.8"
  }
 },
 "nbformat": 4,
 "nbformat_minor": 2
}
