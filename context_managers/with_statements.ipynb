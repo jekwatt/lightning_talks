{
 "cells": [
  {
   "cell_type": "markdown",
   "metadata": {},
   "source": [
    "## With Statements"
   ]
  },
  {
   "cell_type": "markdown",
   "metadata": {},
   "source": [
    "### Documentation\n",
    "\n",
    "https://docs.python.org/3.7/library/contextlib.html\n",
    "\n",
    "http://book.pythontips.com/en/latest/context_managers.html\n"
   ]
  },
  {
   "cell_type": "raw",
   "metadata": {},
   "source": [
    "Context managers allow you to allocate and release resources precisely when you want to.\n",
    "\n",
    "An object that define a runtime context \n",
    "that is entered before the statement body is executed\n",
    "and exited when the statement ends.\n",
    "\n",
    "The most widely used example of context managers is the with statement.\n",
    "\n",
    "The main advantage of using a with statement is that it makes sure our file is closed \n",
    "without paying attention to how the nested block exits."
   ]
  },
  {
   "cell_type": "markdown",
   "metadata": {},
   "source": [
    "## Opening and Closing a File"
   ]
  },
  {
   "cell_type": "raw",
   "metadata": {},
   "source": [
    "When you want to work with a file, the first thing to do is to open it. \n",
    "\n",
    "This is done by invoking the open() built-in function. \n",
    "open() has a single required argument that is the path to the file. \n",
    "\n",
    "open() has a single return, the file object."
   ]
  },
  {
   "cell_type": "code",
   "execution_count": 1,
   "metadata": {
    "collapsed": true
   },
   "outputs": [],
   "source": [
    "file = open('input.txt')"
   ]
  },
  {
   "cell_type": "raw",
   "metadata": {},
   "source": [
    "After you open a file, the next thing to learn is how to close it.\n",
    "\n",
    "Warning: You should always make sure that an open file is properly closed."
   ]
  },
  {
   "cell_type": "code",
   "execution_count": 2,
   "metadata": {},
   "outputs": [],
   "source": [
    "# the below implementation won’t guarantee the file is closed if there’s an exception during the file.read() call\n",
    "\n",
    "file = open('input.txt')\n",
    "file.read()\n",
    "file.close()"
   ]
  },
  {
   "cell_type": "raw",
   "metadata": {},
   "source": [
    "When you’re manipulating a file, there are two ways that you can use to ensure that a file is closed properly, even when encountering an error.\n",
    "\n",
    "1. try-finally block\n",
    "2. with statement"
   ]
  },
  {
   "cell_type": "markdown",
   "metadata": {},
   "source": [
    "## Read a File"
   ]
  },
  {
   "cell_type": "code",
   "execution_count": 3,
   "metadata": {},
   "outputs": [
    {
     "name": "stdout",
     "output_type": "stream",
     "text": [
      "this is for a demonstration purpose.\n",
      "all characters are in lowercase.\n",
      "your job is to change these to uppercase and write to a file.\n",
      "\n"
     ]
    }
   ],
   "source": [
    "# try-finally block\n",
    "\n",
    "file = open('input.txt')\n",
    "try:\n",
    "    lines = file.read()\n",
    "    print(lines)\n",
    "finally:\n",
    "    file.close()"
   ]
  },
  {
   "cell_type": "code",
   "execution_count": 4,
   "metadata": {},
   "outputs": [
    {
     "data": {
      "text/plain": [
       "_io.TextIOWrapper"
      ]
     },
     "execution_count": 4,
     "metadata": {},
     "output_type": "execute_result"
    }
   ],
   "source": [
    "type(file)"
   ]
  },
  {
   "cell_type": "code",
   "execution_count": 5,
   "metadata": {},
   "outputs": [
    {
     "name": "stdout",
     "output_type": "stream",
     "text": [
      "this is for a demonstration purpose.\n",
      "all characters are in lowercase.\n",
      "your job is to change these to uppercase and write to a file.\n",
      "\n"
     ]
    }
   ],
   "source": [
    "# with statement, the above code is equivalent to the below\n",
    "\n",
    "with open('input.txt') as reader:\n",
    "    lines = reader.read() # read\n",
    "    print(lines)"
   ]
  },
  {
   "cell_type": "code",
   "execution_count": 6,
   "metadata": {},
   "outputs": [
    {
     "name": "stdout",
     "output_type": "stream",
     "text": [
      "this is for a demonstration purpose.\n",
      "\n",
      "all characters are in lowercase.\n",
      "\n",
      "your job is to change these to uppercase and write to a file.\n",
      "\n"
     ]
    }
   ],
   "source": [
    "# readline\n",
    "\n",
    "with open('input.txt') as reader:\n",
    "    line1 = reader.readline()\n",
    "    line2 = reader.readline()\n",
    "    line3 = reader.readline()\n",
    "    print(line1)\n",
    "    print(line2)\n",
    "    print(line3)"
   ]
  },
  {
   "cell_type": "code",
   "execution_count": 7,
   "metadata": {},
   "outputs": [
    {
     "name": "stdout",
     "output_type": "stream",
     "text": [
      "['this is for a demonstration purpose.\\n', 'all characters are in lowercase.\\n', 'your job is to change these to uppercase and write to a file.\\n']\n"
     ]
    }
   ],
   "source": [
    "# readlines\n",
    "\n",
    "with open('input.txt') as reader:\n",
    "    lines = reader.readlines()\n",
    "    print(lines)"
   ]
  },
  {
   "cell_type": "code",
   "execution_count": 8,
   "metadata": {},
   "outputs": [
    {
     "name": "stdout",
     "output_type": "stream",
     "text": [
      "['this is for a demonstration purpose.', 'all characters are in lowercase.', 'your job is to change these to uppercase and write to a file.']\n"
     ]
    }
   ],
   "source": [
    "# list comprehension\n",
    "\n",
    "with open('input.txt') as reader:\n",
    "    raw_lines = [raw_line.rstrip() for raw_line in reader]\n",
    "    print(raw_lines)"
   ]
  },
  {
   "cell_type": "markdown",
   "metadata": {},
   "source": [
    "## Write a File"
   ]
  },
  {
   "cell_type": "code",
   "execution_count": 9,
   "metadata": {
    "collapsed": true
   },
   "outputs": [],
   "source": [
    "# try-finally block\n",
    "\n",
    "file = open('out1', 'w')\n",
    "try:\n",
    "    file.write('Hello!')\n",
    "finally:\n",
    "    file.close()"
   ]
  },
  {
   "cell_type": "code",
   "execution_count": 10,
   "metadata": {
    "collapsed": true
   },
   "outputs": [],
   "source": [
    "# with statement, the above code is equivalent to the below\n",
    "\n",
    "with open('out2', 'w') as writer:\n",
    "    writer.write('Hello Again!')"
   ]
  },
  {
   "cell_type": "code",
   "execution_count": 11,
   "metadata": {
    "collapsed": true
   },
   "outputs": [],
   "source": [
    "# add a header row\n",
    "\n",
    "with open('out3', 'w') as writer:\n",
    "    writer.write('col_1\\tcol_2\\n') # header row\n",
    "    writer.write('Hello')\n",
    "    writer.write('\\t')\n",
    "    writer.write('World!')\n",
    "    writer.write('\\n')"
   ]
  },
  {
   "cell_type": "code",
   "execution_count": 18,
   "metadata": {
    "collapsed": true
   },
   "outputs": [],
   "source": [
    "with open('out4', 'w') as writer:\n",
    "    writer.writelines('this is first line\\n'\n",
    "                      'this is second line\\n'\n",
    "                      'this is third line\\n')"
   ]
  },
  {
   "cell_type": "markdown",
   "metadata": {},
   "source": [
    "## Reading and Writing files"
   ]
  },
  {
   "cell_type": "code",
   "execution_count": 13,
   "metadata": {},
   "outputs": [],
   "source": [
    "# all uppercase\n",
    "\n",
    "with open('input.txt') as reader, open('out5', 'w') as writer:\n",
    "    raw_lines = [raw_line.rstrip() for raw_line in reader]\n",
    "    \n",
    "    for line in raw_lines:\n",
    "        line_upper = line.upper()\n",
    "        # print(line_upper)\n",
    "        writer.write(line_upper)\n",
    "        writer.write('\\n')"
   ]
  },
  {
   "cell_type": "code",
   "execution_count": 14,
   "metadata": {
    "scrolled": true
   },
   "outputs": [
    {
     "data": {
      "text/plain": [
       "['_CHUNK_SIZE',\n",
       " '__class__',\n",
       " '__del__',\n",
       " '__delattr__',\n",
       " '__dict__',\n",
       " '__dir__',\n",
       " '__doc__',\n",
       " '__enter__',\n",
       " '__eq__',\n",
       " '__exit__',\n",
       " '__format__',\n",
       " '__ge__',\n",
       " '__getattribute__',\n",
       " '__getstate__',\n",
       " '__gt__',\n",
       " '__hash__',\n",
       " '__init__',\n",
       " '__init_subclass__',\n",
       " '__iter__',\n",
       " '__le__',\n",
       " '__lt__',\n",
       " '__ne__',\n",
       " '__new__',\n",
       " '__next__',\n",
       " '__reduce__',\n",
       " '__reduce_ex__',\n",
       " '__repr__',\n",
       " '__setattr__',\n",
       " '__sizeof__',\n",
       " '__str__',\n",
       " '__subclasshook__',\n",
       " '_checkClosed',\n",
       " '_checkReadable',\n",
       " '_checkSeekable',\n",
       " '_checkWritable',\n",
       " '_finalizing',\n",
       " 'buffer',\n",
       " 'close',\n",
       " 'closed',\n",
       " 'detach',\n",
       " 'encoding',\n",
       " 'errors',\n",
       " 'fileno',\n",
       " 'flush',\n",
       " 'isatty',\n",
       " 'line_buffering',\n",
       " 'mode',\n",
       " 'name',\n",
       " 'newlines',\n",
       " 'read',\n",
       " 'readable',\n",
       " 'readline',\n",
       " 'readlines',\n",
       " 'seek',\n",
       " 'seekable',\n",
       " 'tell',\n",
       " 'truncate',\n",
       " 'writable',\n",
       " 'write',\n",
       " 'writelines']"
      ]
     },
     "execution_count": 14,
     "metadata": {},
     "output_type": "execute_result"
    }
   ],
   "source": [
    "# object.__enter__()\n",
    "# object.__exit__()\n",
    "\n",
    "dir(reader)"
   ]
  },
  {
   "cell_type": "code",
   "execution_count": 15,
   "metadata": {
    "scrolled": true
   },
   "outputs": [
    {
     "data": {
      "text/plain": [
       "['_CHUNK_SIZE',\n",
       " '__class__',\n",
       " '__del__',\n",
       " '__delattr__',\n",
       " '__dict__',\n",
       " '__dir__',\n",
       " '__doc__',\n",
       " '__enter__',\n",
       " '__eq__',\n",
       " '__exit__',\n",
       " '__format__',\n",
       " '__ge__',\n",
       " '__getattribute__',\n",
       " '__getstate__',\n",
       " '__gt__',\n",
       " '__hash__',\n",
       " '__init__',\n",
       " '__init_subclass__',\n",
       " '__iter__',\n",
       " '__le__',\n",
       " '__lt__',\n",
       " '__ne__',\n",
       " '__new__',\n",
       " '__next__',\n",
       " '__reduce__',\n",
       " '__reduce_ex__',\n",
       " '__repr__',\n",
       " '__setattr__',\n",
       " '__sizeof__',\n",
       " '__str__',\n",
       " '__subclasshook__',\n",
       " '_checkClosed',\n",
       " '_checkReadable',\n",
       " '_checkSeekable',\n",
       " '_checkWritable',\n",
       " '_finalizing',\n",
       " 'buffer',\n",
       " 'close',\n",
       " 'closed',\n",
       " 'detach',\n",
       " 'encoding',\n",
       " 'errors',\n",
       " 'fileno',\n",
       " 'flush',\n",
       " 'isatty',\n",
       " 'line_buffering',\n",
       " 'mode',\n",
       " 'name',\n",
       " 'newlines',\n",
       " 'read',\n",
       " 'readable',\n",
       " 'readline',\n",
       " 'readlines',\n",
       " 'seek',\n",
       " 'seekable',\n",
       " 'tell',\n",
       " 'truncate',\n",
       " 'writable',\n",
       " 'write',\n",
       " 'writelines']"
      ]
     },
     "execution_count": 15,
     "metadata": {},
     "output_type": "execute_result"
    }
   ],
   "source": [
    "dir(writer)"
   ]
  },
  {
   "cell_type": "code",
   "execution_count": 16,
   "metadata": {
    "collapsed": true
   },
   "outputs": [],
   "source": [
    "# capitalize\n",
    "\n",
    "with open('input.txt') as reader, open('out6', 'w') as writer:\n",
    "    raw_lines = [raw_line.rstrip() for raw_line in reader]\n",
    "    \n",
    "    for line in raw_lines:\n",
    "        capitalized = line[0].upper() + line[1:]\n",
    "        line_capitalized = ('').join(capitalized)\n",
    "        # print(line_capitalized)\n",
    "        writer.write(line_capitalized)\n",
    "        writer.write('\\n')"
   ]
  },
  {
   "cell_type": "markdown",
   "metadata": {},
   "source": [
    "## Appending to a File"
   ]
  },
  {
   "cell_type": "code",
   "execution_count": 17,
   "metadata": {
    "collapsed": true
   },
   "outputs": [],
   "source": [
    "with open('output.txt', 'a') as a_writer:\n",
    "    a_writer.write('\\nAdding a line')"
   ]
  },
  {
   "cell_type": "code",
   "execution_count": null,
   "metadata": {
    "collapsed": true
   },
   "outputs": [],
   "source": []
  }
 ],
 "metadata": {
  "kernelspec": {
   "display_name": "Python 3",
   "language": "python",
   "name": "python3"
  },
  "language_info": {
   "codemirror_mode": {
    "name": "ipython",
    "version": 3
   },
   "file_extension": ".py",
   "mimetype": "text/x-python",
   "name": "python",
   "nbconvert_exporter": "python",
   "pygments_lexer": "ipython3",
   "version": "3.6.8"
  }
 },
 "nbformat": 4,
 "nbformat_minor": 2
}
